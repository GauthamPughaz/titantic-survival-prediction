{
 "cells": [
  {
   "cell_type": "code",
   "execution_count": null,
   "metadata": {
    "_cell_guid": "b1076dfc-b9ad-4769-8c92-a6c4dae69d19",
    "_uuid": "8f2839f25d086af736a60e9eeb907d3b93b6e0e5"
   },
   "outputs": [],
   "source": [
    "import re\n",
    "import numpy as np\n",
    "import pandas as pd\n",
    "import plotly.express as px\n",
    "import plotly.graph_objects as go\n",
    "import tensorflow as tf\n",
    "from sklearn.model_selection import train_test_split\n",
    "\n",
    "\n",
    "pd.set_option('display.max_columns', None)"
   ]
  },
  {
   "cell_type": "markdown",
   "metadata": {},
   "source": [
    "## Data Analysis"
   ]
  },
  {
   "cell_type": "code",
   "execution_count": null,
   "metadata": {
    "_cell_guid": "79c7e3d0-c299-4dcb-8224-4455121ee9b0",
    "_uuid": "d629ff2d2480ee46fbb7e2d37f6b5fab8052498a"
   },
   "outputs": [],
   "source": [
    "train_df = pd.read_csv('/kaggle/input/titanic/train.csv')\n",
    "test_df = pd.read_csv('/kaggle/input/titanic/test.csv')\n",
    "passenger_ids = test_df['PassengerId']"
   ]
  },
  {
   "cell_type": "code",
   "execution_count": null,
   "metadata": {},
   "outputs": [],
   "source": [
    "train_df.head()"
   ]
  },
  {
   "cell_type": "code",
   "execution_count": null,
   "metadata": {},
   "outputs": [],
   "source": [
    "test_df.head()"
   ]
  },
  {
   "cell_type": "code",
   "execution_count": null,
   "metadata": {},
   "outputs": [],
   "source": [
    "train_df['Survived'].value_counts()"
   ]
  },
  {
   "cell_type": "code",
   "execution_count": null,
   "metadata": {},
   "outputs": [],
   "source": [
    "train_df.info()"
   ]
  },
  {
   "cell_type": "code",
   "execution_count": null,
   "metadata": {},
   "outputs": [],
   "source": [
    "test_df.info()"
   ]
  },
  {
   "cell_type": "code",
   "execution_count": null,
   "metadata": {},
   "outputs": [],
   "source": [
    "train_df.describe()"
   ]
  },
  {
   "cell_type": "code",
   "execution_count": null,
   "metadata": {},
   "outputs": [],
   "source": [
    "test_df.describe()"
   ]
  },
  {
   "cell_type": "markdown",
   "metadata": {},
   "source": [
    "## Visualization"
   ]
  },
  {
   "cell_type": "code",
   "execution_count": null,
   "metadata": {},
   "outputs": [],
   "source": [
    "def hist_survived_vs_feature(feature, df=train_df, labels={}):\n",
    "\n",
    "    survived_mapping = df['Survived'].map({0: 'Dead', 1: 'Survived'})\n",
    "\n",
    "    fig = px.histogram(df, x=survived_mapping, width=800, color=feature, labels=labels)\n",
    "    fig.update_layout(\n",
    "        bargap=0.2,\n",
    "        xaxis_title_text='Survived',\n",
    "        yaxis_title_text='Survived count'\n",
    "    )\n",
    "    \n",
    "    return fig\n",
    "\n",
    "hist_survived_vs_feature('Pclass')"
   ]
  },
  {
   "cell_type": "code",
   "execution_count": null,
   "metadata": {},
   "outputs": [],
   "source": [
    "hist_survived_vs_feature('Sex')"
   ]
  },
  {
   "cell_type": "code",
   "execution_count": null,
   "metadata": {},
   "outputs": [],
   "source": [
    "fig = px.histogram(train_df, x='Age', color='Survived', barmode='overlay')\n",
    "fig"
   ]
  },
  {
   "cell_type": "code",
   "execution_count": null,
   "metadata": {},
   "outputs": [],
   "source": [
    "hist_survived_vs_feature('SibSp')"
   ]
  },
  {
   "cell_type": "code",
   "execution_count": null,
   "metadata": {},
   "outputs": [],
   "source": [
    "hist_survived_vs_feature('Parch')"
   ]
  },
  {
   "cell_type": "code",
   "execution_count": null,
   "metadata": {},
   "outputs": [],
   "source": [
    "fig = px.histogram(train_df, x='Fare', color='Survived', barmode='overlay')\n",
    "fig"
   ]
  },
  {
   "cell_type": "code",
   "execution_count": null,
   "metadata": {},
   "outputs": [],
   "source": [
    "df = train_df[train_df['Cabin'].notnull()]\n",
    "cabin_initials = df['Cabin'].map(lambda x: x[0])\n",
    "\n",
    "hist_survived_vs_feature(cabin_initials, df=df, labels={'color': 'cabin'})"
   ]
  },
  {
   "cell_type": "code",
   "execution_count": null,
   "metadata": {},
   "outputs": [],
   "source": [
    "df = train_df[train_df['Embarked'].notnull()]\n",
    "hist_survived_vs_feature('Embarked', df=df)"
   ]
  },
  {
   "cell_type": "markdown",
   "metadata": {},
   "source": [
    "## Feature Engineering"
   ]
  },
  {
   "cell_type": "code",
   "execution_count": null,
   "metadata": {},
   "outputs": [],
   "source": [
    "train_df.columns"
   ]
  },
  {
   "cell_type": "code",
   "execution_count": null,
   "metadata": {},
   "outputs": [],
   "source": [
    "dataset = [train_df, test_df]\n",
    "\n",
    "# Preprocessing feature 'Name'\n",
    "\n",
    "for df in dataset:\n",
    "    df['Title'] = df['Name'].map(lambda x: re.search(r' ([A-Za-z]+)\\.', x).group().strip().replace('.', ''))\n",
    "\n",
    "train_df['Title'].value_counts().index"
   ]
  },
  {
   "cell_type": "code",
   "execution_count": null,
   "metadata": {},
   "outputs": [],
   "source": [
    "test_df['Title'].value_counts().index"
   ]
  },
  {
   "cell_type": "code",
   "execution_count": null,
   "metadata": {},
   "outputs": [],
   "source": [
    "title_mapping = {'Mr': 1, 'Miss': 2, 'Mrs': 3, 'Master': 4, 'Dr': 5, 'Rev': 5, 'Col': 5,\n",
    "                 'Major': 5, 'Mlle': 5, 'Ms': 5, 'Countess': 5, 'Lady': 5, 'Capt': 5,\n",
    "                 'Jonkheer': 5, 'Don': 5, 'Sir': 5, 'Mme': 5}\n",
    "\n",
    "for df in dataset:\n",
    "    df['Title'] = df['Title'].map(title_mapping)\n",
    "\n",
    "train_df.head()"
   ]
  },
  {
   "cell_type": "code",
   "execution_count": null,
   "metadata": {},
   "outputs": [],
   "source": [
    "def concat_dummies(feature_name):\n",
    "    global dataset\n",
    "    \n",
    "    new_train_df = pd.concat([train_df, pd.get_dummies(train_df[feature_name], prefix=feature_name)], axis=1)\n",
    "    new_test_df = pd.concat([test_df, pd.get_dummies(test_df[feature_name], prefix=feature_name)], axis=1)\n",
    "    dataset = [new_train_df, new_test_df]\n",
    "    \n",
    "    return new_train_df, new_test_df"
   ]
  },
  {
   "cell_type": "code",
   "execution_count": null,
   "metadata": {},
   "outputs": [],
   "source": [
    "train_df, test_df = concat_dummies('Title')"
   ]
  },
  {
   "cell_type": "code",
   "execution_count": null,
   "metadata": {},
   "outputs": [],
   "source": [
    "train_df.head()"
   ]
  },
  {
   "cell_type": "code",
   "execution_count": null,
   "metadata": {},
   "outputs": [],
   "source": [
    "# Preprocessing feature 'Sex'\n",
    "\n",
    "sex_mapping = {'male': 0, 'female': 1}\n",
    "\n",
    "for df in dataset:\n",
    "    df['Sex'] = df['Sex'].map(sex_mapping)\n",
    "    \n",
    "train_df.head()"
   ]
  },
  {
   "cell_type": "markdown",
   "metadata": {},
   "source": [
    "0 - 5:"
   ]
  },
  {
   "cell_type": "code",
   "execution_count": null,
   "metadata": {},
   "outputs": [],
   "source": [
    "# Preprocessing feature 'Age'\n",
    "\n",
    "age_bins = [0, 5.99, 11.9, 17.9, 25.9, 47.9, 61.9, 80]\n",
    "age_labels = [i for i in range(1, 8)]\n",
    "\n",
    "for df in dataset:\n",
    "    df['Age'] = df['Age'].fillna(df.groupby('Title')['Age'].transform('median'))\n",
    "    df['AgeGroup'] = pd.cut(df['Age'], bins=age_bins, labels=age_labels)\n",
    "\n",
    "train_df.head()"
   ]
  },
  {
   "cell_type": "code",
   "execution_count": null,
   "metadata": {},
   "outputs": [],
   "source": [
    "train_df, test_df = concat_dummies('AgeGroup')\n",
    "\n",
    "train_df.head()"
   ]
  },
  {
   "cell_type": "code",
   "execution_count": null,
   "metadata": {},
   "outputs": [],
   "source": [
    "# Preprocessing features 'Parch' and 'SipSp'\n",
    "\n",
    "def scale_feature(feature):\n",
    "    result = []\n",
    "    \n",
    "    for df in dataset:\n",
    "        feature_val = df[feature]\n",
    "        max_val = feature_val.max()\n",
    "        min_val = feature_val.min()\n",
    "        scaled_feature = (feature_val - min_val) / (max_val - min_val)\n",
    "        result.append(scaled_feature)\n",
    "        \n",
    "    return result\n",
    "\n",
    "train_df['SibSp'], test_df['SibSp'] = scale_feature('SibSp')\n",
    "train_df['Parch'], test_df['Parch'] = scale_feature('Parch')"
   ]
  },
  {
   "cell_type": "code",
   "execution_count": null,
   "metadata": {},
   "outputs": [],
   "source": [
    "train_df.head()"
   ]
  },
  {
   "cell_type": "code",
   "execution_count": null,
   "metadata": {},
   "outputs": [],
   "source": [
    "# Preprocessing feature 'Fare'\n",
    "\n",
    "test_df['Fare'] = test_df['Fare'].fillna(test_df.groupby('Pclass')['Fare'].transform('median'))\n",
    "train_df['Fare'], test_df['Fare'] = scale_feature('Fare')\n",
    "\n",
    "train_df.head()"
   ]
  },
  {
   "cell_type": "code",
   "execution_count": null,
   "metadata": {},
   "outputs": [],
   "source": [
    "# Preprocessing feature 'Embarked'\n",
    "\n",
    "# Visualizing the count of passenger's embarkment across different classes using bar chart\n",
    "\n",
    "\n",
    "df = train_df[train_df['Embarked'].notnull()]\n",
    "class_count = df.groupby(['Pclass', 'Embarked'])['Embarked'].count()\n",
    "C_count = class_count.loc[([1, 2, 3], 'C')]\n",
    "Q_count = class_count.loc[([1, 2, 3], 'Q')]\n",
    "S_count = class_count.loc[([1, 2, 3], 'S')]\n",
    "\n",
    "p_class = [1, 2, 3]\n",
    "fig = go.Figure()\n",
    "fig.add_trace(go.Bar(x=p_class, y=C_count.tolist(), name='C'))\n",
    "fig.add_trace(go.Bar(x=p_class, y=Q_count.tolist(), name='Q'))\n",
    "fig.add_trace(go.Bar(x=p_class, y=S_count.tolist(), name='S'))\n",
    "fig.update_layout(\n",
    "    barmode='stack',\n",
    "    xaxis_title_text='Passenger class',\n",
    "    yaxis_title_text='Embarked station count'\n",
    ")\n",
    "fig.show()\n",
    "\n",
    "# Getting the same figure using histogram\n",
    "\n",
    "fig = px.histogram(df, x='Pclass', color='Embarked')\n",
    "fig.update_layout(\n",
    "    bargap=0.2,\n",
    "    xaxis_title_text='Passenger class',\n",
    "    yaxis_title_text='Embarked station count'\n",
    ")"
   ]
  },
  {
   "cell_type": "code",
   "execution_count": null,
   "metadata": {},
   "outputs": [],
   "source": [
    "train_df['Embarked'] = train_df['Embarked'].fillna('S')\n",
    "train_df, test_df = concat_dummies('Embarked')\n",
    "\n",
    "train_df.head()"
   ]
  },
  {
   "cell_type": "code",
   "execution_count": null,
   "metadata": {},
   "outputs": [],
   "source": [
    "# Dropping unwanted columns\n",
    " \n",
    "train_df = train_df.drop(['PassengerId', 'Name', 'Age', 'Ticket', 'Cabin', 'Embarked',\n",
    "                          'Title', 'AgeGroup'], axis=1)\n",
    "test_df = test_df.drop(['PassengerId', 'Name', 'Age', 'Ticket', 'Cabin', 'Embarked',\n",
    "                          'Title', 'AgeGroup'], axis=1)"
   ]
  },
  {
   "cell_type": "code",
   "execution_count": null,
   "metadata": {},
   "outputs": [],
   "source": [
    "train_df.head()"
   ]
  },
  {
   "cell_type": "code",
   "execution_count": null,
   "metadata": {},
   "outputs": [],
   "source": [
    "test_df.head()"
   ]
  },
  {
   "cell_type": "markdown",
   "metadata": {},
   "source": [
    "## Modelling"
   ]
  },
  {
   "cell_type": "code",
   "execution_count": null,
   "metadata": {},
   "outputs": [],
   "source": [
    "X = train_df.iloc[:, 1:].values\n",
    "y = train_df['Survived'].values\n",
    "\n",
    "X_train, X_val, y_train, y_val = train_test_split(X, y, test_size=0.2, random_state=1)\n",
    "X_test = test_df.values"
   ]
  },
  {
   "cell_type": "code",
   "execution_count": null,
   "metadata": {},
   "outputs": [],
   "source": [
    "print(f'Shape of X_train: {X_train.shape}')\n",
    "print(f'Shape of X_test: {X_val.shape}')\n",
    "print(f'Shape of y_train: {y_train.shape}')\n",
    "print(f'Shape of y_test: {y_val.shape}')"
   ]
  },
  {
   "cell_type": "code",
   "execution_count": null,
   "metadata": {},
   "outputs": [],
   "source": [
    "model = tf.keras.Sequential()\n",
    "model.add(tf.keras.layers.Dense(10, input_shape=[20], activation='relu'))\n",
    "model.add(tf.keras.layers.Dropout(0.25))\n",
    "model.add(tf.keras.layers.Dense(20, activation='relu'))\n",
    "model.add(tf.keras.layers.Dense(10, activation='relu'))\n",
    "model.add(tf.keras.layers.Dense(1, activation='sigmoid'))\n",
    "          \n",
    "optimizer = tf.keras.optimizers.Adam(learning_rate=0.001)\n",
    "model.compile(loss='binary_crossentropy', optimizer=optimizer, metrics=['accuracy'])\n",
    "model.summary()"
   ]
  },
  {
   "cell_type": "code",
   "execution_count": null,
   "metadata": {},
   "outputs": [],
   "source": [
    "history = model.fit(\n",
    "    x=X_train,\n",
    "    y=y_train,\n",
    "    epochs=10,\n",
    "    batch_size=1,\n",
    "    validation_data=(X_val, y_val)\n",
    ")"
   ]
  },
  {
   "cell_type": "code",
   "execution_count": null,
   "metadata": {},
   "outputs": [],
   "source": [
    "prediction = model.predict(X_test)\n",
    "rounded_prediction = np.where(prediction >= 0.5, 1, 0).flatten()\n",
    "\n",
    "submission_df = pd.DataFrame({\n",
    "    'PassengerId': passenger_ids,\n",
    "    'Survived': rounded_prediction\n",
    "})\n",
    "\n",
    "submission_df.head()"
   ]
  },
  {
   "cell_type": "code",
   "execution_count": null,
   "metadata": {},
   "outputs": [],
   "source": [
    "submission_df.to_csv('submission.csv', index=False)"
   ]
  },
  {
   "cell_type": "code",
   "execution_count": null,
   "metadata": {},
   "outputs": [],
   "source": []
  }
 ],
 "metadata": {
  "kernelspec": {
   "display_name": "Python 3",
   "language": "python",
   "name": "python3"
  },
  "language_info": {
   "codemirror_mode": {
    "name": "ipython",
    "version": 3
   },
   "file_extension": ".py",
   "mimetype": "text/x-python",
   "name": "python",
   "nbconvert_exporter": "python",
   "pygments_lexer": "ipython3",
   "version": "3.7.6"
  }
 },
 "nbformat": 4,
 "nbformat_minor": 1
}
